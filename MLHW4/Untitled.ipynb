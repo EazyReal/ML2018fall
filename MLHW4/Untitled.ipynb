{
 "cells": [
  {
   "cell_type": "code",
   "execution_count": 89,
   "metadata": {},
   "outputs": [
    {
     "name": "stdout",
     "output_type": "stream",
     "text": [
      "[[1. 2. 3. 1.]\n",
      " [2. 2. 2. 1.]\n",
      " [0. 0. 0. 1.]\n",
      " [5. 4. 3. 1.]]\n",
      "[[1 2 3 0]\n",
      " [1 3 5 0]]\n"
     ]
    },
    {
     "data": {
      "text/plain": [
       "2"
      ]
     },
     "execution_count": 89,
     "metadata": {},
     "output_type": "execute_result"
    }
   ],
   "source": [
    "import numpy as np\n",
    "\n",
    "a = np.matrix([[1, 2, 3], [2, 2, 2], [0, 0, 0], [5, 4, 3]])\n",
    "m = a.shape[0]\n",
    "a = np.c_[a, np.ones(m)]\n",
    "print(a)\n",
    "w = np.matrix([[1, 2, 3, 0], [1,3,5,0]])\n",
    "\n",
    "def mul1(x):\n",
    "    return x\n",
    "\n",
    "w = mul1(w)\n",
    "print(w)\n",
    "\n",
    "m = a.shape[0]\n",
    "w.shape[0]\n"
   ]
  },
  {
   "cell_type": "code",
   "execution_count": 78,
   "metadata": {},
   "outputs": [
    {
     "data": {
      "text/plain": [
       "matrix([[14, 22],\n",
       "        [12, 18],\n",
       "        [ 0,  0],\n",
       "        [22, 32]])"
      ]
     },
     "execution_count": 78,
     "metadata": {},
     "output_type": "execute_result"
    }
   ],
   "source": [
    "z = a*w.transpose()\n",
    "\n",
    "z"
   ]
  },
  {
   "cell_type": "code",
   "execution_count": null,
   "metadata": {},
   "outputs": [],
   "source": [
    "m*in  and out * in want m*out"
   ]
  },
  {
   "cell_type": "code",
   "execution_count": 54,
   "metadata": {},
   "outputs": [
    {
     "ename": "SyntaxError",
     "evalue": "unexpected EOF while parsing (<ipython-input-54-13e1217b9c6b>, line 1)",
     "output_type": "error",
     "traceback": [
      "\u001b[0;36m  File \u001b[0;32m\"<ipython-input-54-13e1217b9c6b>\"\u001b[0;36m, line \u001b[0;32m1\u001b[0m\n\u001b[0;31m    print(w*(np.asmatrix(a[0]).transpose())\u001b[0m\n\u001b[0m                                           ^\u001b[0m\n\u001b[0;31mSyntaxError\u001b[0m\u001b[0;31m:\u001b[0m unexpected EOF while parsing\n"
     ]
    }
   ],
   "source": [
    "print(w*(np.asmatrix(a[0]).transpose())"
   ]
  },
  {
   "cell_type": "code",
   "execution_count": 1,
   "metadata": {},
   "outputs": [
    {
     "ename": "SyntaxError",
     "evalue": "unexpected EOF while parsing (<ipython-input-1-13e1217b9c6b>, line 1)",
     "output_type": "error",
     "traceback": [
      "\u001b[1;36m  File \u001b[1;32m\"<ipython-input-1-13e1217b9c6b>\"\u001b[1;36m, line \u001b[1;32m1\u001b[0m\n\u001b[1;33m    print(w*(np.asmatrix(a[0]).transpose())\u001b[0m\n\u001b[1;37m                                           ^\u001b[0m\n\u001b[1;31mSyntaxError\u001b[0m\u001b[1;31m:\u001b[0m unexpected EOF while parsing\n"
     ]
    }
   ],
   "source": [
    "print(w*(np.asmatrix(a[0]).transpose())"
   ]
  },
  {
   "cell_type": "code",
   "execution_count": 3,
   "metadata": {},
   "outputs": [
    {
     "ename": "IndentationError",
     "evalue": "expected an indented block (<ipython-input-3-a5b709bbfd63>, line 11)",
     "output_type": "error",
     "traceback": [
      "\u001b[1;36m  File \u001b[1;32m\"<ipython-input-3-a5b709bbfd63>\"\u001b[1;36m, line \u001b[1;32m11\u001b[0m\n\u001b[1;33m    \"\"\"\u001b[0m\n\u001b[1;37m       \n^\u001b[0m\n\u001b[1;31mIndentationError\u001b[0m\u001b[1;31m:\u001b[0m expected an indented block\n"
     ]
    }
   ],
   "source": [
    "def autoencoder_cost_and_grad(theta, visible_size, hidden_size, lambda_, data):\n",
    "\"\"\"\n",
    "The input theta is a 1-dimensional array because scipy.optimize.minimize expects\n",
    "the parameters being optimized to be a 1d array.\n",
    "First convert theta from a 1d array to the (W1, W2, b1, b2)\n",
    "matrix/vector format, so that this follows the notation convention of the\n",
    "lecture notes and tutorial.\n",
    "You must compute the:\n",
    "    cost : scalar representing the overall cost J(theta)\n",
    "    grad : array representing the corresponding gradient of each element of theta\n",
    "\"\"\"\n",
    "  training_size = data.shape[1]\n",
    "  # unroll theta to get (W1,W2,b1,b2) #\n",
    "  W1 = theta[0:hidden_size*visible_size]\n",
    "  W1 = W1.reshape(hidden_size,visible_size)\n",
    "\n",
    "  W2 = theta[hidden_size*visible_size:2*hidden_size*visible_size]\n",
    "  W2 = W2.reshape(visible_size,hidden_size)\n",
    "\n",
    "  b1 = theta[2*hidden_size*visible_size:2*hidden_size*visible_size + hidden_size]\n",
    "  b2 = theta[2*hidden_size*visible_size + hidden_size: 2*hidden_size*visible_size + hidden_size + visible_size]\n",
    "\n",
    "  #feedforward pass\n",
    "  a_l1 = data\n",
    "\n",
    "  z_l2 = W1.dot(a_l1) + numpy.tile(b1,(training_size,1)).T\n",
    "  a_l2 = sigmoid(z_l2)\n",
    "\n",
    "  z_l3 = W2.dot(a_l2) + numpy.tile(b2,(training_size,1)).T\n",
    "  a_l3 = sigmoid(z_l3)\n",
    "\n",
    "  #backprop\n",
    "  delta_l3 = numpy.multiply(-(data-a_l3),numpy.multiply(a_l3,1-a_l3))\n",
    "  delta_l2 = numpy.multiply(W2.T.dot(delta_l3),\n",
    "                             numpy.multiply(a_l2, 1 - a_l2))\n",
    "\n",
    "  b2_derivative = numpy.sum(delta_l3,axis=1)/training_size\n",
    "  b1_derivative = numpy.sum(delta_l2,axis=1)/training_size\n",
    "\n",
    "  W2_derivative = numpy.dot(delta_l3,a_l2.T)/training_size + lambda_*W2\n",
    "  #print(W2_derivative.shape)\n",
    "  W1_derivative = numpy.dot(delta_l2,a_l1.T)/training_size + lambda_*W1\n",
    "\n",
    "  W1_derivative = W1_derivative.reshape(hidden_size*visible_size)\n",
    "  W2_derivative = W2_derivative.reshape(visible_size*hidden_size)\n",
    "  b1_derivative = b1_derivative.reshape(hidden_size)\n",
    "  b2_derivative = b2_derivative.reshape(visible_size)\n",
    "\n",
    "\n",
    "  grad = numpy.concatenate((W1_derivative,W2_derivative,b1_derivative,b2_derivative))\n",
    "  cost = 0.5*numpy.sum((data-a_l3)**2)/training_size + 0.5*lambda_*(numpy.sum(W1**2) + numpy.sum(W2**2))\n",
    "  return cost,grad"
   ]
  },
  {
   "cell_type": "code",
   "execution_count": null,
   "metadata": {},
   "outputs": [],
   "source": []
  }
 ],
 "metadata": {
  "kernelspec": {
   "display_name": "Python 3",
   "language": "python",
   "name": "python3"
  },
  "language_info": {
   "codemirror_mode": {
    "name": "ipython",
    "version": 3
   },
   "file_extension": ".py",
   "mimetype": "text/x-python",
   "name": "python",
   "nbconvert_exporter": "python",
   "pygments_lexer": "ipython3",
   "version": "3.7.0"
  }
 },
 "nbformat": 4,
 "nbformat_minor": 2
}
